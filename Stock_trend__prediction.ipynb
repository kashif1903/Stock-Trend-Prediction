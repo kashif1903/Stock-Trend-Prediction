{
  "nbformat": 4,
  "nbformat_minor": 0,
  "metadata": {
    "colab": {
      "name": "Stock_trend _prediction.ipynb",
      "provenance": [],
      "collapsed_sections": [],
      "authorship_tag": "ABX9TyPgeYQzjg6H0PSOZtrABaxd",
      "include_colab_link": true
    },
    "kernelspec": {
      "name": "python3",
      "display_name": "Python 3"
    },
    "language_info": {
      "name": "python"
    }
  },
  "cells": [
    {
      "cell_type": "markdown",
      "metadata": {
        "id": "view-in-github",
        "colab_type": "text"
      },
      "source": [
        "<a href=\"https://colab.research.google.com/github/kashif1903/Stock-Trend-Prediction/blob/main/Stock_trend__prediction.ipynb\" target=\"_parent\"><img src=\"https://colab.research.google.com/assets/colab-badge.svg\" alt=\"Open In Colab\"/></a>"
      ]
    },
    {
      "cell_type": "code",
      "metadata": {
        "id": "9Oek7kliCXl9"
      },
      "source": [
        "import numpy as np\n",
        "import pandas as pd\n",
        "import matplotlib.pyplot as plt\n",
        "import pandas_datareader.data as data"
      ],
      "execution_count": null,
      "outputs": []
    },
    {
      "cell_type": "code",
      "metadata": {
        "colab": {
          "base_uri": "https://localhost:8080/"
        },
        "id": "kUkIm5JzPzNc",
        "outputId": "c59163e0-6690-4d8f-ccf6-dd722bd38fd8"
      },
      "source": [
        "pip install yfinance"
      ],
      "execution_count": null,
      "outputs": [
        {
          "output_type": "stream",
          "text": [
            "Collecting yfinance\n",
            "  Downloading yfinance-0.1.63.tar.gz (26 kB)\n",
            "Requirement already satisfied: pandas>=0.24 in /usr/local/lib/python3.7/dist-packages (from yfinance) (1.1.5)\n",
            "Requirement already satisfied: numpy>=1.15 in /usr/local/lib/python3.7/dist-packages (from yfinance) (1.19.5)\n",
            "Requirement already satisfied: requests>=2.20 in /usr/local/lib/python3.7/dist-packages (from yfinance) (2.23.0)\n",
            "Requirement already satisfied: multitasking>=0.0.7 in /usr/local/lib/python3.7/dist-packages (from yfinance) (0.0.9)\n",
            "Collecting lxml>=4.5.1\n",
            "  Downloading lxml-4.6.3-cp37-cp37m-manylinux2014_x86_64.whl (6.3 MB)\n",
            "\u001b[K     |████████████████████████████████| 6.3 MB 6.6 MB/s \n",
            "\u001b[?25hRequirement already satisfied: python-dateutil>=2.7.3 in /usr/local/lib/python3.7/dist-packages (from pandas>=0.24->yfinance) (2.8.2)\n",
            "Requirement already satisfied: pytz>=2017.2 in /usr/local/lib/python3.7/dist-packages (from pandas>=0.24->yfinance) (2018.9)\n",
            "Requirement already satisfied: six>=1.5 in /usr/local/lib/python3.7/dist-packages (from python-dateutil>=2.7.3->pandas>=0.24->yfinance) (1.15.0)\n",
            "Requirement already satisfied: certifi>=2017.4.17 in /usr/local/lib/python3.7/dist-packages (from requests>=2.20->yfinance) (2021.5.30)\n",
            "Requirement already satisfied: idna<3,>=2.5 in /usr/local/lib/python3.7/dist-packages (from requests>=2.20->yfinance) (2.10)\n",
            "Requirement already satisfied: urllib3!=1.25.0,!=1.25.1,<1.26,>=1.21.1 in /usr/local/lib/python3.7/dist-packages (from requests>=2.20->yfinance) (1.24.3)\n",
            "Requirement already satisfied: chardet<4,>=3.0.2 in /usr/local/lib/python3.7/dist-packages (from requests>=2.20->yfinance) (3.0.4)\n",
            "Building wheels for collected packages: yfinance\n",
            "  Building wheel for yfinance (setup.py) ... \u001b[?25l\u001b[?25hdone\n",
            "  Created wheel for yfinance: filename=yfinance-0.1.63-py2.py3-none-any.whl size=23918 sha256=6468d02fc08526aeea46febf75284930590fcf8bd833c1c53e7a682cc0b5e365\n",
            "  Stored in directory: /root/.cache/pip/wheels/fe/87/8b/7ec24486e001d3926537f5f7801f57a74d181be25b11157983\n",
            "Successfully built yfinance\n",
            "Installing collected packages: lxml, yfinance\n",
            "  Attempting uninstall: lxml\n",
            "    Found existing installation: lxml 4.2.6\n",
            "    Uninstalling lxml-4.2.6:\n",
            "      Successfully uninstalled lxml-4.2.6\n",
            "Successfully installed lxml-4.6.3 yfinance-0.1.63\n"
          ],
          "name": "stdout"
        }
      ]
    },
    {
      "cell_type": "code",
      "metadata": {
        "id": "teunMOWIQQ6x"
      },
      "source": [
        "import yfinance as yfin\n",
        "yfin.pdr_override()"
      ],
      "execution_count": null,
      "outputs": []
    },
    {
      "cell_type": "code",
      "metadata": {
        "colab": {
          "base_uri": "https://localhost:8080/",
          "height": 250
        },
        "id": "4tuOuT39H5w8",
        "outputId": "1c7ae913-2960-4a3b-cb26-136d763efc66"
      },
      "source": [
        "start_date = '2010-01-01'\n",
        "end_date = '2019-12-31'\n",
        "df = data.get_data_yahoo(\"AAPL\", start= start_date, end= end_date)\n",
        "df.head()\n"
      ],
      "execution_count": null,
      "outputs": [
        {
          "output_type": "stream",
          "text": [
            "\r[*********************100%***********************]  1 of 1 completed\n"
          ],
          "name": "stdout"
        },
        {
          "output_type": "execute_result",
          "data": {
            "text/html": [
              "<div>\n",
              "<style scoped>\n",
              "    .dataframe tbody tr th:only-of-type {\n",
              "        vertical-align: middle;\n",
              "    }\n",
              "\n",
              "    .dataframe tbody tr th {\n",
              "        vertical-align: top;\n",
              "    }\n",
              "\n",
              "    .dataframe thead th {\n",
              "        text-align: right;\n",
              "    }\n",
              "</style>\n",
              "<table border=\"1\" class=\"dataframe\">\n",
              "  <thead>\n",
              "    <tr style=\"text-align: right;\">\n",
              "      <th></th>\n",
              "      <th>Open</th>\n",
              "      <th>High</th>\n",
              "      <th>Low</th>\n",
              "      <th>Close</th>\n",
              "      <th>Adj Close</th>\n",
              "      <th>Volume</th>\n",
              "    </tr>\n",
              "    <tr>\n",
              "      <th>Date</th>\n",
              "      <th></th>\n",
              "      <th></th>\n",
              "      <th></th>\n",
              "      <th></th>\n",
              "      <th></th>\n",
              "      <th></th>\n",
              "    </tr>\n",
              "  </thead>\n",
              "  <tbody>\n",
              "    <tr>\n",
              "      <th>2010-01-04</th>\n",
              "      <td>7.622500</td>\n",
              "      <td>7.660714</td>\n",
              "      <td>7.585000</td>\n",
              "      <td>7.643214</td>\n",
              "      <td>6.562591</td>\n",
              "      <td>493729600</td>\n",
              "    </tr>\n",
              "    <tr>\n",
              "      <th>2010-01-05</th>\n",
              "      <td>7.664286</td>\n",
              "      <td>7.699643</td>\n",
              "      <td>7.616071</td>\n",
              "      <td>7.656429</td>\n",
              "      <td>6.573935</td>\n",
              "      <td>601904800</td>\n",
              "    </tr>\n",
              "    <tr>\n",
              "      <th>2010-01-06</th>\n",
              "      <td>7.656429</td>\n",
              "      <td>7.686786</td>\n",
              "      <td>7.526786</td>\n",
              "      <td>7.534643</td>\n",
              "      <td>6.469369</td>\n",
              "      <td>552160000</td>\n",
              "    </tr>\n",
              "    <tr>\n",
              "      <th>2010-01-07</th>\n",
              "      <td>7.562500</td>\n",
              "      <td>7.571429</td>\n",
              "      <td>7.466071</td>\n",
              "      <td>7.520714</td>\n",
              "      <td>6.457407</td>\n",
              "      <td>477131200</td>\n",
              "    </tr>\n",
              "    <tr>\n",
              "      <th>2010-01-08</th>\n",
              "      <td>7.510714</td>\n",
              "      <td>7.571429</td>\n",
              "      <td>7.466429</td>\n",
              "      <td>7.570714</td>\n",
              "      <td>6.500339</td>\n",
              "      <td>447610800</td>\n",
              "    </tr>\n",
              "  </tbody>\n",
              "</table>\n",
              "</div>"
            ],
            "text/plain": [
              "                Open      High       Low     Close  Adj Close     Volume\n",
              "Date                                                                    \n",
              "2010-01-04  7.622500  7.660714  7.585000  7.643214   6.562591  493729600\n",
              "2010-01-05  7.664286  7.699643  7.616071  7.656429   6.573935  601904800\n",
              "2010-01-06  7.656429  7.686786  7.526786  7.534643   6.469369  552160000\n",
              "2010-01-07  7.562500  7.571429  7.466071  7.520714   6.457407  477131200\n",
              "2010-01-08  7.510714  7.571429  7.466429  7.570714   6.500339  447610800"
            ]
          },
          "metadata": {},
          "execution_count": 6
        }
      ]
    },
    {
      "cell_type": "code",
      "metadata": {
        "colab": {
          "base_uri": "https://localhost:8080/",
          "height": 234
        },
        "id": "ojddIURERwN2",
        "outputId": "8a903603-6c78-49e0-9ebf-6db304dc5647"
      },
      "source": [
        "df.tail()"
      ],
      "execution_count": null,
      "outputs": [
        {
          "output_type": "execute_result",
          "data": {
            "text/html": [
              "<div>\n",
              "<style scoped>\n",
              "    .dataframe tbody tr th:only-of-type {\n",
              "        vertical-align: middle;\n",
              "    }\n",
              "\n",
              "    .dataframe tbody tr th {\n",
              "        vertical-align: top;\n",
              "    }\n",
              "\n",
              "    .dataframe thead th {\n",
              "        text-align: right;\n",
              "    }\n",
              "</style>\n",
              "<table border=\"1\" class=\"dataframe\">\n",
              "  <thead>\n",
              "    <tr style=\"text-align: right;\">\n",
              "      <th></th>\n",
              "      <th>Open</th>\n",
              "      <th>High</th>\n",
              "      <th>Low</th>\n",
              "      <th>Close</th>\n",
              "      <th>Adj Close</th>\n",
              "      <th>Volume</th>\n",
              "    </tr>\n",
              "    <tr>\n",
              "      <th>Date</th>\n",
              "      <th></th>\n",
              "      <th></th>\n",
              "      <th></th>\n",
              "      <th></th>\n",
              "      <th></th>\n",
              "      <th></th>\n",
              "    </tr>\n",
              "  </thead>\n",
              "  <tbody>\n",
              "    <tr>\n",
              "      <th>2019-12-23</th>\n",
              "      <td>70.132500</td>\n",
              "      <td>71.062500</td>\n",
              "      <td>70.092499</td>\n",
              "      <td>71.000000</td>\n",
              "      <td>70.062904</td>\n",
              "      <td>98572000</td>\n",
              "    </tr>\n",
              "    <tr>\n",
              "      <th>2019-12-24</th>\n",
              "      <td>71.172501</td>\n",
              "      <td>71.222504</td>\n",
              "      <td>70.730003</td>\n",
              "      <td>71.067497</td>\n",
              "      <td>70.129517</td>\n",
              "      <td>48478800</td>\n",
              "    </tr>\n",
              "    <tr>\n",
              "      <th>2019-12-26</th>\n",
              "      <td>71.205002</td>\n",
              "      <td>72.495003</td>\n",
              "      <td>71.175003</td>\n",
              "      <td>72.477501</td>\n",
              "      <td>71.520905</td>\n",
              "      <td>93121200</td>\n",
              "    </tr>\n",
              "    <tr>\n",
              "      <th>2019-12-27</th>\n",
              "      <td>72.779999</td>\n",
              "      <td>73.492500</td>\n",
              "      <td>72.029999</td>\n",
              "      <td>72.449997</td>\n",
              "      <td>71.493759</td>\n",
              "      <td>146266000</td>\n",
              "    </tr>\n",
              "    <tr>\n",
              "      <th>2019-12-30</th>\n",
              "      <td>72.364998</td>\n",
              "      <td>73.172501</td>\n",
              "      <td>71.305000</td>\n",
              "      <td>72.879997</td>\n",
              "      <td>71.918083</td>\n",
              "      <td>144114400</td>\n",
              "    </tr>\n",
              "  </tbody>\n",
              "</table>\n",
              "</div>"
            ],
            "text/plain": [
              "                 Open       High        Low      Close  Adj Close     Volume\n",
              "Date                                                                        \n",
              "2019-12-23  70.132500  71.062500  70.092499  71.000000  70.062904   98572000\n",
              "2019-12-24  71.172501  71.222504  70.730003  71.067497  70.129517   48478800\n",
              "2019-12-26  71.205002  72.495003  71.175003  72.477501  71.520905   93121200\n",
              "2019-12-27  72.779999  73.492500  72.029999  72.449997  71.493759  146266000\n",
              "2019-12-30  72.364998  73.172501  71.305000  72.879997  71.918083  144114400"
            ]
          },
          "metadata": {},
          "execution_count": 7
        }
      ]
    },
    {
      "cell_type": "code",
      "metadata": {
        "colab": {
          "base_uri": "https://localhost:8080/",
          "height": 203
        },
        "id": "w6ImSIkYR83C",
        "outputId": "87f33433-c539-4098-b5a7-0e161b90497a"
      },
      "source": [
        "df=df.reset_index()\n",
        "df.head()"
      ],
      "execution_count": null,
      "outputs": [
        {
          "output_type": "execute_result",
          "data": {
            "text/html": [
              "<div>\n",
              "<style scoped>\n",
              "    .dataframe tbody tr th:only-of-type {\n",
              "        vertical-align: middle;\n",
              "    }\n",
              "\n",
              "    .dataframe tbody tr th {\n",
              "        vertical-align: top;\n",
              "    }\n",
              "\n",
              "    .dataframe thead th {\n",
              "        text-align: right;\n",
              "    }\n",
              "</style>\n",
              "<table border=\"1\" class=\"dataframe\">\n",
              "  <thead>\n",
              "    <tr style=\"text-align: right;\">\n",
              "      <th></th>\n",
              "      <th>Date</th>\n",
              "      <th>Open</th>\n",
              "      <th>High</th>\n",
              "      <th>Low</th>\n",
              "      <th>Close</th>\n",
              "      <th>Adj Close</th>\n",
              "      <th>Volume</th>\n",
              "    </tr>\n",
              "  </thead>\n",
              "  <tbody>\n",
              "    <tr>\n",
              "      <th>0</th>\n",
              "      <td>2010-01-04</td>\n",
              "      <td>7.622500</td>\n",
              "      <td>7.660714</td>\n",
              "      <td>7.585000</td>\n",
              "      <td>7.643214</td>\n",
              "      <td>6.562591</td>\n",
              "      <td>493729600</td>\n",
              "    </tr>\n",
              "    <tr>\n",
              "      <th>1</th>\n",
              "      <td>2010-01-05</td>\n",
              "      <td>7.664286</td>\n",
              "      <td>7.699643</td>\n",
              "      <td>7.616071</td>\n",
              "      <td>7.656429</td>\n",
              "      <td>6.573935</td>\n",
              "      <td>601904800</td>\n",
              "    </tr>\n",
              "    <tr>\n",
              "      <th>2</th>\n",
              "      <td>2010-01-06</td>\n",
              "      <td>7.656429</td>\n",
              "      <td>7.686786</td>\n",
              "      <td>7.526786</td>\n",
              "      <td>7.534643</td>\n",
              "      <td>6.469369</td>\n",
              "      <td>552160000</td>\n",
              "    </tr>\n",
              "    <tr>\n",
              "      <th>3</th>\n",
              "      <td>2010-01-07</td>\n",
              "      <td>7.562500</td>\n",
              "      <td>7.571429</td>\n",
              "      <td>7.466071</td>\n",
              "      <td>7.520714</td>\n",
              "      <td>6.457407</td>\n",
              "      <td>477131200</td>\n",
              "    </tr>\n",
              "    <tr>\n",
              "      <th>4</th>\n",
              "      <td>2010-01-08</td>\n",
              "      <td>7.510714</td>\n",
              "      <td>7.571429</td>\n",
              "      <td>7.466429</td>\n",
              "      <td>7.570714</td>\n",
              "      <td>6.500339</td>\n",
              "      <td>447610800</td>\n",
              "    </tr>\n",
              "  </tbody>\n",
              "</table>\n",
              "</div>"
            ],
            "text/plain": [
              "        Date      Open      High       Low     Close  Adj Close     Volume\n",
              "0 2010-01-04  7.622500  7.660714  7.585000  7.643214   6.562591  493729600\n",
              "1 2010-01-05  7.664286  7.699643  7.616071  7.656429   6.573935  601904800\n",
              "2 2010-01-06  7.656429  7.686786  7.526786  7.534643   6.469369  552160000\n",
              "3 2010-01-07  7.562500  7.571429  7.466071  7.520714   6.457407  477131200\n",
              "4 2010-01-08  7.510714  7.571429  7.466429  7.570714   6.500339  447610800"
            ]
          },
          "metadata": {},
          "execution_count": 8
        }
      ]
    },
    {
      "cell_type": "code",
      "metadata": {
        "colab": {
          "base_uri": "https://localhost:8080/",
          "height": 203
        },
        "id": "cRrnY-atUvIz",
        "outputId": "5809269b-16db-4cac-f2e6-204b19a14a38"
      },
      "source": [
        "df=df.drop(['Date','Adj Close'], axis=1)\n",
        "df.head()"
      ],
      "execution_count": null,
      "outputs": [
        {
          "output_type": "execute_result",
          "data": {
            "text/html": [
              "<div>\n",
              "<style scoped>\n",
              "    .dataframe tbody tr th:only-of-type {\n",
              "        vertical-align: middle;\n",
              "    }\n",
              "\n",
              "    .dataframe tbody tr th {\n",
              "        vertical-align: top;\n",
              "    }\n",
              "\n",
              "    .dataframe thead th {\n",
              "        text-align: right;\n",
              "    }\n",
              "</style>\n",
              "<table border=\"1\" class=\"dataframe\">\n",
              "  <thead>\n",
              "    <tr style=\"text-align: right;\">\n",
              "      <th></th>\n",
              "      <th>Open</th>\n",
              "      <th>High</th>\n",
              "      <th>Low</th>\n",
              "      <th>Close</th>\n",
              "      <th>Volume</th>\n",
              "    </tr>\n",
              "  </thead>\n",
              "  <tbody>\n",
              "    <tr>\n",
              "      <th>0</th>\n",
              "      <td>7.622500</td>\n",
              "      <td>7.660714</td>\n",
              "      <td>7.585000</td>\n",
              "      <td>7.643214</td>\n",
              "      <td>493729600</td>\n",
              "    </tr>\n",
              "    <tr>\n",
              "      <th>1</th>\n",
              "      <td>7.664286</td>\n",
              "      <td>7.699643</td>\n",
              "      <td>7.616071</td>\n",
              "      <td>7.656429</td>\n",
              "      <td>601904800</td>\n",
              "    </tr>\n",
              "    <tr>\n",
              "      <th>2</th>\n",
              "      <td>7.656429</td>\n",
              "      <td>7.686786</td>\n",
              "      <td>7.526786</td>\n",
              "      <td>7.534643</td>\n",
              "      <td>552160000</td>\n",
              "    </tr>\n",
              "    <tr>\n",
              "      <th>3</th>\n",
              "      <td>7.562500</td>\n",
              "      <td>7.571429</td>\n",
              "      <td>7.466071</td>\n",
              "      <td>7.520714</td>\n",
              "      <td>477131200</td>\n",
              "    </tr>\n",
              "    <tr>\n",
              "      <th>4</th>\n",
              "      <td>7.510714</td>\n",
              "      <td>7.571429</td>\n",
              "      <td>7.466429</td>\n",
              "      <td>7.570714</td>\n",
              "      <td>447610800</td>\n",
              "    </tr>\n",
              "  </tbody>\n",
              "</table>\n",
              "</div>"
            ],
            "text/plain": [
              "       Open      High       Low     Close     Volume\n",
              "0  7.622500  7.660714  7.585000  7.643214  493729600\n",
              "1  7.664286  7.699643  7.616071  7.656429  601904800\n",
              "2  7.656429  7.686786  7.526786  7.534643  552160000\n",
              "3  7.562500  7.571429  7.466071  7.520714  477131200\n",
              "4  7.510714  7.571429  7.466429  7.570714  447610800"
            ]
          },
          "metadata": {},
          "execution_count": 9
        }
      ]
    },
    {
      "cell_type": "code",
      "metadata": {
        "colab": {
          "base_uri": "https://localhost:8080/",
          "height": 282
        },
        "id": "W0Mww9f3WNBt",
        "outputId": "d509e1e2-c8fc-4a1a-d12c-38e86f5c1d36"
      },
      "source": [
        "plt.plot(df.Close)"
      ],
      "execution_count": null,
      "outputs": [
        {
          "output_type": "execute_result",
          "data": {
            "text/plain": [
              "[<matplotlib.lines.Line2D at 0x7f2b674cf410>]"
            ]
          },
          "metadata": {},
          "execution_count": 10
        },
        {
          "output_type": "display_data",
          "data": {
            "image/png": "[encoded data removed]",
            "text/plain": [
              "<Figure size 432x288 with 1 Axes>"
            ]
          },
          "metadata": {
            "needs_background": "light"
          }
        }
      ]
    },
    {
      "cell_type": "code",
      "metadata": {
        "colab": {
          "base_uri": "https://localhost:8080/"
        },
        "id": "5fkp66kLW4Bf",
        "outputId": "09607edc-e375-4297-bdae-2fe56fc2a68a"
      },
      "source": [
        "ma100= df.Close.rolling(100).mean()\n",
        "ma100"
      ],
      "execution_count": null,
      "outputs": [
        {
          "output_type": "execute_result",
          "data": {
            "text/plain": [
              "0             NaN\n",
              "1             NaN\n",
              "2             NaN\n",
              "3             NaN\n",
              "4             NaN\n",
              "          ...    \n",
              "2510    59.201075\n",
              "2511    59.401700\n",
              "2512    59.643125\n",
              "2513    59.875125\n",
              "2514    60.106325\n",
              "Name: Close, Length: 2515, dtype: float64"
            ]
          },
          "metadata": {},
          "execution_count": 11
        }
      ]
    },
    {
      "cell_type": "code",
      "metadata": {
        "colab": {
          "base_uri": "https://localhost:8080/",
          "height": 391
        },
        "id": "VPvySsE9XM31",
        "outputId": "85d9ee11-b38d-482c-db56-6e371b114241"
      },
      "source": [
        "plt.figure(figsize= (12,6))\n",
        "plt.plot(df.Close)\n",
        "plt.plot(ma100,'r')"
      ],
      "execution_count": null,
      "outputs": [
        {
          "output_type": "execute_result",
          "data": {
            "text/plain": [
              "[<matplotlib.lines.Line2D at 0x7f2b65cb0ed0>]"
            ]
          },
          "metadata": {},
          "execution_count": 12
        },
        {
          "output_type": "display_data",
          "data": {
            "image/png": "[encoded data removed]",
            "text/plain": [
              "<Figure size 864x432 with 1 Axes>"
            ]
          },
          "metadata": {
            "needs_background": "light"
          }
        }
      ]
    },
    {
      "cell_type": "code",
      "metadata": {
        "colab": {
          "base_uri": "https://localhost:8080/"
        },
        "id": "WZFOMe1eX3vk",
        "outputId": "ed84cc4a-12b1-4148-922e-0364ab8ca02f"
      },
      "source": [
        "ma200= df.Close.rolling(200).mean()\n",
        "ma200\n"
      ],
      "execution_count": null,
      "outputs": [
        {
          "output_type": "execute_result",
          "data": {
            "text/plain": [
              "0             NaN\n",
              "1             NaN\n",
              "2             NaN\n",
              "3             NaN\n",
              "4             NaN\n",
              "          ...    \n",
              "2510    54.132313\n",
              "2511    54.261513\n",
              "2512    54.396763\n",
              "2513    54.529350\n",
              "2514    54.661100\n",
              "Name: Close, Length: 2515, dtype: float64"
            ]
          },
          "metadata": {},
          "execution_count": 13
        }
      ]
    },
    {
      "cell_type": "code",
      "metadata": {
        "colab": {
          "base_uri": "https://localhost:8080/",
          "height": 391
        },
        "id": "OfUSoxUbYDv_",
        "outputId": "4598bdf4-24f1-45ce-b766-57a40fdec964"
      },
      "source": [
        "plt.figure(figsize= (12,6))\n",
        "plt.plot(df.Close)\n",
        "plt.plot(ma100,'r')\n",
        "plt.plot(ma200, 'g')"
      ],
      "execution_count": null,
      "outputs": [
        {
          "output_type": "execute_result",
          "data": {
            "text/plain": [
              "[<matplotlib.lines.Line2D at 0x7f2b65cc1490>]"
            ]
          },
          "metadata": {},
          "execution_count": 14
        },
        {
          "output_type": "display_data",
          "data": {
            "image/png": "[encoded data removed]",
            "text/plain": [
              "<Figure size 864x432 with 1 Axes>"
            ]
          },
          "metadata": {
            "needs_background": "light"
          }
        }
      ]
    },
    {
      "cell_type": "code",
      "metadata": {
        "colab": {
          "base_uri": "https://localhost:8080/"
        },
        "id": "mqv5sRG-Yit_",
        "outputId": "6ad1b25e-fd9f-481f-c87f-8c001d1f090d"
      },
      "source": [
        "df.shape"
      ],
      "execution_count": null,
      "outputs": [
        {
          "output_type": "execute_result",
          "data": {
            "text/plain": [
              "(2515, 5)"
            ]
          },
          "metadata": {},
          "execution_count": 15
        }
      ]
    },
    {
      "cell_type": "code",
      "metadata": {
        "colab": {
          "base_uri": "https://localhost:8080/"
        },
        "id": "7Z_Xlp3XYqx2",
        "outputId": "b8cdc54d-9369-420a-9f60-1098793bfaaf"
      },
      "source": [
        "data_training=pd.DataFrame(df['Close'][0:int(len(df)*0.70)])\n",
        "data_test=pd.DataFrame(df['Close'][int(len(df)*0.70):int(len(df))])\n",
        "print(data_training.shape)\n",
        "print(data_test.shape)"
      ],
      "execution_count": null,
      "outputs": [
        {
          "output_type": "stream",
          "text": [
            "(1760, 1)\n",
            "(755, 1)\n"
          ],
          "name": "stdout"
        }
      ]
    },
    {
      "cell_type": "code",
      "metadata": {
        "id": "CypuMOXua9aw"
      },
      "source": [
        "from sklearn.preprocessing import MinMaxScaler\n",
        "scaler= MinMaxScaler(feature_range=(0,1))"
      ],
      "execution_count": null,
      "outputs": []
    },
    {
      "cell_type": "code",
      "metadata": {
        "colab": {
          "base_uri": "https://localhost:8080/"
        },
        "id": "6kIFdGgUfUna",
        "outputId": "4faf569e-5afe-420b-e0e9-c9f22507b60b"
      },
      "source": [
        "data_training_array=scaler.fit_transform(data_training)\n",
        "data_training_array"
      ],
      "execution_count": null,
      "outputs": [
        {
          "output_type": "execute_result",
          "data": {
            "text/plain": [
              "array([[0.02971782],\n",
              "       [0.03021854],\n",
              "       [0.02560389],\n",
              "       ...,\n",
              "       [0.84388656],\n",
              "       [0.85089656],\n",
              "       [0.84616011]])"
            ]
          },
          "metadata": {},
          "execution_count": 18
        }
      ]
    },
    {
      "cell_type": "code",
      "metadata": {
        "id": "3H6cz-OIgVXE"
      },
      "source": [
        "X_train = []\n",
        "Y_train = []\n",
        "for i in range(100,data_training_array.shape[0]):\n",
        "  X_train.append(data_training_array[i-100: i])\n",
        "  Y_train.append(data_training_array[i, 0])\n",
        "\n",
        "X_train,Y_train= np.array(X_train), np.array(Y_train)\n"
      ],
      "execution_count": null,
      "outputs": []
    },
    {
      "cell_type": "code",
      "metadata": {
        "id": "Wao7EJkZ9qZw"
      },
      "source": [
        "# LSTM Model"
      ],
      "execution_count": null,
      "outputs": []
    },
    {
      "cell_type": "code",
      "metadata": {
        "id": "U_v4-4MXALvR"
      },
      "source": [
        "from keras.layers import Dense, Dropout, LSTM\n",
        "from keras.models import Sequential"
      ],
      "execution_count": null,
      "outputs": []
    },
    {
      "cell_type": "code",
      "metadata": {
        "id": "4M_3uVSoAruF"
      },
      "source": [
        "model=Sequential()\n",
        "model.add(LSTM(units= 50, activation='relu', return_sequences= True, input_shape= (X_train.shape[1], 1)))\n",
        "model.add(Dropout(0.2))\n",
        "\n",
        "model.add(LSTM(units=60 , activation='relu', return_sequences= True))\n",
        "model.add(Dropout(0.3))\n",
        "\n",
        "model.add(LSTM(units= 80, activation='relu', return_sequences= True))\n",
        "model.add(Dropout(0.4))\n",
        "\n",
        "model.add(LSTM(units=120, activation='relu'))\n",
        "model.add(Dropout(0.5))\n",
        "\n",
        "model.add(Dense(units=1))"
      ],
      "execution_count": null,
      "outputs": []
    },
    {
      "cell_type": "code",
      "metadata": {
        "colab": {
          "base_uri": "https://localhost:8080/"
        },
        "id": "aXWVt9EFFsL5",
        "outputId": "7b187ff3-8c5b-4ba0-c744-8528c82ae7a0"
      },
      "source": [
        "model.summary()"
      ],
      "execution_count": null,
      "outputs": [
        {
          "output_type": "stream",
          "text": [
            "Model: \"sequential\"\n",
            "_________________________________________________________________\n",
            "Layer (type)                 Output Shape              Param #   \n",
            "=================================================================\n",
            "lstm (LSTM)                  (None, 100, 50)           10400     \n",
            "_________________________________________________________________\n",
            "dropout (Dropout)            (None, 100, 50)           0         \n",
            "_________________________________________________________________\n",
            "lstm_1 (LSTM)                (None, 100, 60)           26640     \n",
            "_________________________________________________________________\n",
            "dropout_1 (Dropout)          (None, 100, 60)           0         \n",
            "_________________________________________________________________\n",
            "lstm_2 (LSTM)                (None, 100, 80)           45120     \n",
            "_________________________________________________________________\n",
            "dropout_2 (Dropout)          (None, 100, 80)           0         \n",
            "_________________________________________________________________\n",
            "lstm_3 (LSTM)                (None, 120)               96480     \n",
            "_________________________________________________________________\n",
            "dropout_3 (Dropout)          (None, 120)               0         \n",
            "_________________________________________________________________\n",
            "dense (Dense)                (None, 1)                 121       \n",
            "=================================================================\n",
            "Total params: 178,761\n",
            "Trainable params: 178,761\n",
            "Non-trainable params: 0\n",
            "_________________________________________________________________\n"
          ],
          "name": "stdout"
        }
      ]
    },
    {
      "cell_type": "code",
      "metadata": {
        "colab": {
          "base_uri": "https://localhost:8080/"
        },
        "id": "pY-AsiVEPvwo",
        "outputId": "53454ba9-38e0-49ed-a65f-e81db5ed2aa5"
      },
      "source": [
        "model.compile(optimizer='adam', loss='mean_squared_error')\n",
        "model.fit(X_train,Y_train, epochs= 50)"
      ],
      "execution_count": null,
      "outputs": [
        {
          "output_type": "stream",
          "text": [
            "Epoch 1/50\n",
            "52/52 [==============================] - 19s 272ms/step - loss: 0.0665\n",
            "Epoch 2/50\n",
            "52/52 [==============================] - 14s 269ms/step - loss: 0.0142\n",
            "Epoch 3/50\n",
            "52/52 [==============================] - 14s 269ms/step - loss: 0.0120\n",
            "Epoch 4/50\n",
            "52/52 [==============================] - 14s 270ms/step - loss: 0.0095\n",
            "Epoch 5/50\n",
            "52/52 [==============================] - 14s 270ms/step - loss: 0.0096\n",
            "Epoch 6/50\n",
            "52/52 [==============================] - 14s 276ms/step - loss: 0.0102\n",
            "Epoch 7/50\n",
            "52/52 [==============================] - 14s 277ms/step - loss: 0.0087\n",
            "Epoch 8/50\n",
            "52/52 [==============================] - 14s 275ms/step - loss: 0.0078\n",
            "Epoch 9/50\n",
            "52/52 [==============================] - 14s 271ms/step - loss: 0.0076\n",
            "Epoch 10/50\n",
            "52/52 [==============================] - 14s 271ms/step - loss: 0.0077\n",
            "Epoch 11/50\n",
            "52/52 [==============================] - 14s 269ms/step - loss: 0.0071\n",
            "Epoch 12/50\n",
            "52/52 [==============================] - 14s 268ms/step - loss: 0.0078\n",
            "Epoch 13/50\n",
            "52/52 [==============================] - 14s 268ms/step - loss: 0.0064\n",
            "Epoch 14/50\n",
            "52/52 [==============================] - 14s 267ms/step - loss: 0.0063\n",
            "Epoch 15/50\n",
            "52/52 [==============================] - 14s 267ms/step - loss: 0.0062\n",
            "Epoch 16/50\n",
            "52/52 [==============================] - 14s 267ms/step - loss: 0.0066\n",
            "Epoch 17/50\n",
            "52/52 [==============================] - 14s 274ms/step - loss: 0.0069\n",
            "Epoch 18/50\n",
            "52/52 [==============================] - 14s 271ms/step - loss: 0.0061\n",
            "Epoch 19/50\n",
            "52/52 [==============================] - 14s 271ms/step - loss: 0.0064\n",
            "Epoch 20/50\n",
            "52/52 [==============================] - 14s 270ms/step - loss: 0.0059\n",
            "Epoch 21/50\n",
            "52/52 [==============================] - 14s 271ms/step - loss: 0.0052\n",
            "Epoch 22/50\n",
            "52/52 [==============================] - 14s 272ms/step - loss: 0.0054\n",
            "Epoch 23/50\n",
            "52/52 [==============================] - 14s 276ms/step - loss: 0.0053\n",
            "Epoch 24/50\n",
            "52/52 [==============================] - 14s 274ms/step - loss: 0.0054\n",
            "Epoch 25/50\n",
            "52/52 [==============================] - 14s 275ms/step - loss: 0.0051\n",
            "Epoch 26/50\n",
            "52/52 [==============================] - 14s 269ms/step - loss: 0.0051\n",
            "Epoch 27/50\n",
            "52/52 [==============================] - 14s 271ms/step - loss: 0.0048\n",
            "Epoch 28/50\n",
            "52/52 [==============================] - 14s 273ms/step - loss: 0.0061\n",
            "Epoch 29/50\n",
            "52/52 [==============================] - 14s 272ms/step - loss: 0.0049\n",
            "Epoch 30/50\n",
            "52/52 [==============================] - 14s 277ms/step - loss: 0.0044\n",
            "Epoch 31/50\n",
            "52/52 [==============================] - 14s 275ms/step - loss: 0.0047\n",
            "Epoch 32/50\n",
            "52/52 [==============================] - 14s 272ms/step - loss: 0.0047\n",
            "Epoch 33/50\n",
            "52/52 [==============================] - 14s 271ms/step - loss: 0.0043\n",
            "Epoch 34/50\n",
            "52/52 [==============================] - 14s 272ms/step - loss: 0.0040\n",
            "Epoch 35/50\n",
            "52/52 [==============================] - 14s 272ms/step - loss: 0.0042\n",
            "Epoch 36/50\n",
            "52/52 [==============================] - 14s 274ms/step - loss: 0.0040\n",
            "Epoch 37/50\n",
            "52/52 [==============================] - 14s 270ms/step - loss: 0.0040\n",
            "Epoch 38/50\n",
            "52/52 [==============================] - 14s 272ms/step - loss: 0.0039\n",
            "Epoch 39/50\n",
            "52/52 [==============================] - 14s 272ms/step - loss: 0.0039\n",
            "Epoch 40/50\n",
            "52/52 [==============================] - 14s 273ms/step - loss: 0.0036\n",
            "Epoch 41/50\n",
            "52/52 [==============================] - 14s 272ms/step - loss: 0.0037\n",
            "Epoch 42/50\n",
            "52/52 [==============================] - 14s 271ms/step - loss: 0.0033\n",
            "Epoch 43/50\n",
            "52/52 [==============================] - 14s 272ms/step - loss: 0.0041\n",
            "Epoch 44/50\n",
            "52/52 [==============================] - 14s 271ms/step - loss: 0.0037\n",
            "Epoch 45/50\n",
            "52/52 [==============================] - 14s 270ms/step - loss: 0.0035\n",
            "Epoch 46/50\n",
            "52/52 [==============================] - 14s 270ms/step - loss: 0.0035\n",
            "Epoch 47/50\n",
            "52/52 [==============================] - 14s 270ms/step - loss: 0.0035\n",
            "Epoch 48/50\n",
            "52/52 [==============================] - 14s 269ms/step - loss: 0.0035\n",
            "Epoch 49/50\n",
            "52/52 [==============================] - 14s 269ms/step - loss: 0.0032\n",
            "Epoch 50/50\n",
            "52/52 [==============================] - 14s 274ms/step - loss: 0.0031\n"
          ],
          "name": "stdout"
        },
        {
          "output_type": "execute_result",
          "data": {
            "text/plain": [
              "<keras.callbacks.History at 0x7f2b0f4ed810>"
            ]
          },
          "metadata": {},
          "execution_count": 30
        }
      ]
    },
    {
      "cell_type": "code",
      "metadata": {
        "id": "YIeVCjcZWEo6"
      },
      "source": [
        "model.save('keras_model.h5')"
      ],
      "execution_count": null,
      "outputs": []
    },
    {
      "cell_type": "code",
      "metadata": {
        "colab": {
          "base_uri": "https://localhost:8080/",
          "height": 203
        },
        "id": "7hM3zb3Na_lA",
        "outputId": "9c91e9ac-0943-4a58-b046-e06424d8b3b0"
      },
      "source": [
        "data_test.head()"
      ],
      "execution_count": null,
      "outputs": [
        {
          "output_type": "execute_result",
          "data": {
            "text/html": [
              "<div>\n",
              "<style scoped>\n",
              "    .dataframe tbody tr th:only-of-type {\n",
              "        vertical-align: middle;\n",
              "    }\n",
              "\n",
              "    .dataframe tbody tr th {\n",
              "        vertical-align: top;\n",
              "    }\n",
              "\n",
              "    .dataframe thead th {\n",
              "        text-align: right;\n",
              "    }\n",
              "</style>\n",
              "<table border=\"1\" class=\"dataframe\">\n",
              "  <thead>\n",
              "    <tr style=\"text-align: right;\">\n",
              "      <th></th>\n",
              "      <th>Close</th>\n",
              "    </tr>\n",
              "  </thead>\n",
              "  <tbody>\n",
              "    <tr>\n",
              "      <th>1760</th>\n",
              "      <td>29.182501</td>\n",
              "    </tr>\n",
              "    <tr>\n",
              "      <th>1761</th>\n",
              "      <td>28.955000</td>\n",
              "    </tr>\n",
              "    <tr>\n",
              "      <th>1762</th>\n",
              "      <td>29.037500</td>\n",
              "    </tr>\n",
              "    <tr>\n",
              "      <th>1763</th>\n",
              "      <td>29.004999</td>\n",
              "    </tr>\n",
              "    <tr>\n",
              "      <th>1764</th>\n",
              "      <td>29.152500</td>\n",
              "    </tr>\n",
              "  </tbody>\n",
              "</table>\n",
              "</div>"
            ],
            "text/plain": [
              "          Close\n",
              "1760  29.182501\n",
              "1761  28.955000\n",
              "1762  29.037500\n",
              "1763  29.004999\n",
              "1764  29.152500"
            ]
          },
          "metadata": {},
          "execution_count": 33
        }
      ]
    },
    {
      "cell_type": "code",
      "metadata": {
        "id": "M2qC3cCMfymi"
      },
      "source": [
        "#in order to predict 1760 value we need last 100 values in data_training"
      ],
      "execution_count": null,
      "outputs": []
    },
    {
      "cell_type": "code",
      "metadata": {
        "id": "gQrs8xC_cJH8"
      },
      "source": [
        "past_100_days= data_training.tail(100)"
      ],
      "execution_count": null,
      "outputs": []
    },
    {
      "cell_type": "code",
      "metadata": {
        "id": "TM8p4MkvgH4C"
      },
      "source": [
        "final_test= past_100_days.append(data_test, ignore_index= True)"
      ],
      "execution_count": null,
      "outputs": []
    },
    {
      "cell_type": "code",
      "metadata": {
        "colab": {
          "base_uri": "https://localhost:8080/",
          "height": 203
        },
        "id": "II8mzuavgmBm",
        "outputId": "4abcb208-5f76-48c3-b294-c01e515e52d5"
      },
      "source": [
        "final_test.head()"
      ],
      "execution_count": null,
      "outputs": [
        {
          "output_type": "execute_result",
          "data": {
            "text/html": [
              "<div>\n",
              "<style scoped>\n",
              "    .dataframe tbody tr th:only-of-type {\n",
              "        vertical-align: middle;\n",
              "    }\n",
              "\n",
              "    .dataframe tbody tr th {\n",
              "        vertical-align: top;\n",
              "    }\n",
              "\n",
              "    .dataframe thead th {\n",
              "        text-align: right;\n",
              "    }\n",
              "</style>\n",
              "<table border=\"1\" class=\"dataframe\">\n",
              "  <thead>\n",
              "    <tr style=\"text-align: right;\">\n",
              "      <th></th>\n",
              "      <th>Close</th>\n",
              "    </tr>\n",
              "  </thead>\n",
              "  <tbody>\n",
              "    <tr>\n",
              "      <th>0</th>\n",
              "      <td>27.092501</td>\n",
              "    </tr>\n",
              "    <tr>\n",
              "      <th>1</th>\n",
              "      <td>27.202499</td>\n",
              "    </tr>\n",
              "    <tr>\n",
              "      <th>2</th>\n",
              "      <td>27.000000</td>\n",
              "    </tr>\n",
              "    <tr>\n",
              "      <th>3</th>\n",
              "      <td>26.982500</td>\n",
              "    </tr>\n",
              "    <tr>\n",
              "      <th>4</th>\n",
              "      <td>27.045000</td>\n",
              "    </tr>\n",
              "  </tbody>\n",
              "</table>\n",
              "</div>"
            ],
            "text/plain": [
              "       Close\n",
              "0  27.092501\n",
              "1  27.202499\n",
              "2  27.000000\n",
              "3  26.982500\n",
              "4  27.045000"
            ]
          },
          "metadata": {},
          "execution_count": 37
        }
      ]
    },
    {
      "cell_type": "code",
      "metadata": {
        "colab": {
          "base_uri": "https://localhost:8080/"
        },
        "id": "2I-hd5nqguik",
        "outputId": "58fca719-e37a-4304-b7b1-0d844f3b6a04"
      },
      "source": [
        "input_data= scaler.fit_transform(final_test)\n",
        "input_data.shape"
      ],
      "execution_count": null,
      "outputs": [
        {
          "output_type": "execute_result",
          "data": {
            "text/plain": [
              "(855, 1)"
            ]
          },
          "metadata": {},
          "execution_count": 38
        }
      ]
    },
    {
      "cell_type": "code",
      "metadata": {
        "colab": {
          "base_uri": "https://localhost:8080/"
        },
        "id": "LAUhGrbdhEBV",
        "outputId": "59831687-3bfb-4b1b-c43c-b124b05611ae"
      },
      "source": [
        "X_test=[]\n",
        "Y_test=[]\n",
        "for i in range(100,input_data.shape[0]):\n",
        "  X_test.append(input_data[i-100: i])\n",
        "  Y_test.append(input_data[i, 0])\n",
        "X_test, Y_test= np.array(X_test), np.array(Y_test)\n",
        "print(X_test.shape)\n",
        "print(Y_test.shape) "
      ],
      "execution_count": null,
      "outputs": [
        {
          "output_type": "stream",
          "text": [
            "(755, 100, 1)\n",
            "(755,)\n"
          ],
          "name": "stdout"
        }
      ]
    },
    {
      "cell_type": "code",
      "metadata": {
        "id": "haXXk-eziTFR"
      },
      "source": [
        "#predictions\n",
        "y_predicted= model.predict(X_test)"
      ],
      "execution_count": null,
      "outputs": []
    },
    {
      "cell_type": "code",
      "metadata": {
        "colab": {
          "base_uri": "https://localhost:8080/"
        },
        "id": "d27NXM1Did6R",
        "outputId": "96b5fec4-2fee-4695-8788-47fc788ab637"
      },
      "source": [
        "y_predicted.shape"
      ],
      "execution_count": null,
      "outputs": [
        {
          "output_type": "execute_result",
          "data": {
            "text/plain": [
              "(755, 1)"
            ]
          },
          "metadata": {},
          "execution_count": 43
        }
      ]
    },
    {
      "cell_type": "code",
      "metadata": {
        "id": "6KRuai4pi_c1"
      },
      "source": [
        "#scale up y_tst and y_predicted"
      ],
      "execution_count": null,
      "outputs": []
    },
    {
      "cell_type": "code",
      "metadata": {
        "colab": {
          "base_uri": "https://localhost:8080/"
        },
        "id": "Kn0uOOvzin7R",
        "outputId": "679e18ff-78aa-4b4b-871c-51995be09bd1"
      },
      "source": [
        "scaler.scale_"
      ],
      "execution_count": null,
      "outputs": [
        {
          "output_type": "execute_result",
          "data": {
            "text/plain": [
              "array([0.02123255])"
            ]
          },
          "metadata": {},
          "execution_count": 44
        }
      ]
    },
    {
      "cell_type": "code",
      "metadata": {
        "id": "lPgEi-7Ei7o6"
      },
      "source": [
        "scale_factor= 1/0.02123255\n",
        "y_predicted=y_predicted* scale_factor\n",
        "Y_test=Y_test* scale_factor"
      ],
      "execution_count": null,
      "outputs": []
    },
    {
      "cell_type": "code",
      "metadata": {
        "colab": {
          "base_uri": "https://localhost:8080/",
          "height": 388
        },
        "id": "BdGQlAYgjZCj",
        "outputId": "f2ba2c7c-1f9f-4e57-96e8-266cec873b29"
      },
      "source": [
        "plt.figure(figsize=(12,6))\n",
        "plt.plot(Y_test, 'b', label='Actual Price')\n",
        "plt.plot(y_predicted, 'r', label='Predicted Price')\n",
        "plt.xlabel('Time')\n",
        "plt.ylabel('Price')\n",
        "plt.legend()\n",
        "plt.show()"
      ],
      "execution_count": null,
      "outputs": [
        {
          "output_type": "display_data",
          "data": {
            "image/png": "[encoded data removed]",
            "text/plain": [
              "<Figure size 864x432 with 1 Axes>"
            ]
          },
          "metadata": {
            "needs_background": "light"
          }
        }
      ]
    },
    {
      "cell_type": "markdown",
      "metadata": {
        "id": "PsWr3E2GkpZp"
      },
      "source": [
        "# New section"
      ]
    }
  ]
}